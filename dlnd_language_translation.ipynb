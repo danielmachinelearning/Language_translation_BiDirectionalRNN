{
 "cells": [
  {
   "cell_type": "markdown",
   "metadata": {
    "collapsed": true
   },
   "source": [
    "# Language Translation\n",
    "In this project, you’re going to take a peek into the realm of neural network machine translation.  You’ll be training a sequence to sequence model on a dataset of English and French sentences that can translate new sentences from English to French.\n",
    "## Get the Data\n",
    "Since translating the whole language of English to French will take lots of time to train, we have provided you with a small portion of the English corpus."
   ]
  },
  {
   "cell_type": "code",
   "execution_count": 1,
   "metadata": {
    "collapsed": true
   },
   "outputs": [],
   "source": [
    "\"\"\"\n",
    "DON'T MODIFY ANYTHING IN THIS CELL\n",
    "\"\"\"\n",
    "import helper\n",
    "import problem_unittests as tests\n",
    "\n",
    "source_path = 'data/small_vocab_en'\n",
    "target_path = 'data/small_vocab_fr'\n",
    "source_text = helper.load_data(source_path)\n",
    "target_text = helper.load_data(target_path)"
   ]
  },
  {
   "cell_type": "markdown",
   "metadata": {},
   "source": [
    "## Explore the Data\n",
    "Play around with view_sentence_range to view different parts of the data."
   ]
  },
  {
   "cell_type": "code",
   "execution_count": 2,
   "metadata": {},
   "outputs": [
    {
     "name": "stdout",
     "output_type": "stream",
     "text": [
      "Dataset Stats\n",
      "Roughly the number of unique words: 227\n",
      "Number of sentences: 137861\n",
      "Average number of words in a sentence: 13.225277634719028\n",
      "\n",
      "English sentences 0 to 10:\n",
      "new jersey is sometimes quiet during autumn , and it is snowy in april .\n",
      "the united states is usually chilly during july , and it is usually freezing in november .\n",
      "california is usually quiet during march , and it is usually hot in june .\n",
      "the united states is sometimes mild during june , and it is cold in september .\n",
      "your least liked fruit is the grape , but my least liked is the apple .\n",
      "his favorite fruit is the orange , but my favorite is the grape .\n",
      "paris is relaxing during december , but it is usually chilly in july .\n",
      "new jersey is busy during spring , and it is never hot in march .\n",
      "our least liked fruit is the lemon , but my least liked is the grape .\n",
      "the united states is sometimes busy during january , and it is sometimes warm in november .\n",
      "\n",
      "French sentences 0 to 10:\n",
      "new jersey est parfois calme pendant l' automne , et il est neigeux en avril .\n",
      "les états-unis est généralement froid en juillet , et il gèle habituellement en novembre .\n",
      "california est généralement calme en mars , et il est généralement chaud en juin .\n",
      "les états-unis est parfois légère en juin , et il fait froid en septembre .\n",
      "votre moins aimé fruit est le raisin , mais mon moins aimé est la pomme .\n",
      "son fruit préféré est l'orange , mais mon préféré est le raisin .\n",
      "paris est relaxant en décembre , mais il est généralement froid en juillet .\n",
      "new jersey est occupé au printemps , et il est jamais chaude en mars .\n",
      "notre fruit est moins aimé le citron , mais mon moins aimé est le raisin .\n",
      "les états-unis est parfois occupé en janvier , et il est parfois chaud en novembre .\n"
     ]
    }
   ],
   "source": [
    "view_sentence_range = (0, 10)\n",
    "\n",
    "\"\"\"\n",
    "DON'T MODIFY ANYTHING IN THIS CELL\n",
    "\"\"\"\n",
    "import numpy as np\n",
    "\n",
    "print('Dataset Stats')\n",
    "print('Roughly the number of unique words: {}'.format(len({word: None for word in source_text.split()})))\n",
    "\n",
    "sentences = source_text.split('\\n')\n",
    "word_counts = [len(sentence.split()) for sentence in sentences]\n",
    "print('Number of sentences: {}'.format(len(sentences)))\n",
    "print('Average number of words in a sentence: {}'.format(np.average(word_counts)))\n",
    "\n",
    "print()\n",
    "print('English sentences {} to {}:'.format(*view_sentence_range))\n",
    "print('\\n'.join(source_text.split('\\n')[view_sentence_range[0]:view_sentence_range[1]]))\n",
    "print()\n",
    "print('French sentences {} to {}:'.format(*view_sentence_range))\n",
    "print('\\n'.join(target_text.split('\\n')[view_sentence_range[0]:view_sentence_range[1]]))"
   ]
  },
  {
   "cell_type": "markdown",
   "metadata": {},
   "source": [
    "## Implement Preprocessing Function\n",
    "### Text to Word Ids\n",
    "As you did with other RNNs, you must turn the text into a number so the computer can understand it. In the function `text_to_ids()`, you'll turn `source_text` and `target_text` from words to ids.  However, you need to add the `<EOS>` word id at the end of `target_text`.  This will help the neural network predict when the sentence should end.\n",
    "\n",
    "You can get the `<EOS>` word id by doing:\n",
    "```python\n",
    "target_vocab_to_int['<EOS>']\n",
    "```\n",
    "You can get other word ids using `source_vocab_to_int` and `target_vocab_to_int`."
   ]
  },
  {
   "cell_type": "code",
   "execution_count": 3,
   "metadata": {},
   "outputs": [
    {
     "name": "stdout",
     "output_type": "stream",
     "text": [
      "Tests Passed\n"
     ]
    }
   ],
   "source": [
    "def text_to_ids(source_text, target_text, source_vocab_to_int, target_vocab_to_int):\n",
    "    \"\"\"\n",
    "    Convert source and target text to proper word ids\n",
    "    :param source_text: String that contains all the source text.\n",
    "    :param target_text: String that contains all the target text.\n",
    "    :param source_vocab_to_int: Dictionary to go from the source words to an id\n",
    "    :param target_vocab_to_int: Dictionary to go from the target words to an id\n",
    "    :return: A tuple of lists (source_id_text, target_id_text)\n",
    "    \"\"\"\n",
    "    # TODO: Implement Function\n",
    "    \n",
    "     \n",
    "    source_id_text = [[source_vocab_to_int[word] for word in n.split()] for n in source_text.split(\"\\n\")]\n",
    "    target_id_text = [[target_vocab_to_int[word] for word in n.split()]+[target_vocab_to_int['<EOS>']] for n in target_text.split(\"\\n\")]\n",
    "    return source_id_text, target_id_text\n",
    "\n",
    "\n",
    "\"\"\"\n",
    "DON'T MODIFY ANYTHING IN THIS CELL THAT IS BELOW THIS LINE\n",
    "\"\"\"\n",
    "tests.test_text_to_ids(text_to_ids)"
   ]
  },
  {
   "cell_type": "markdown",
   "metadata": {},
   "source": [
    "### Preprocess all the data and save it\n",
    "Running the code cell below will preprocess all the data and save it to file."
   ]
  },
  {
   "cell_type": "code",
   "execution_count": 4,
   "metadata": {
    "collapsed": true
   },
   "outputs": [],
   "source": [
    "\"\"\"\n",
    "DON'T MODIFY ANYTHING IN THIS CELL\n",
    "\"\"\"\n",
    "helper.preprocess_and_save_data(source_path, target_path, text_to_ids)"
   ]
  },
  {
   "cell_type": "markdown",
   "metadata": {},
   "source": [
    "# Check Point\n",
    "This is your first checkpoint. If you ever decide to come back to this notebook or have to restart the notebook, you can start from here. The preprocessed data has been saved to disk."
   ]
  },
  {
   "cell_type": "code",
   "execution_count": 5,
   "metadata": {
    "collapsed": true
   },
   "outputs": [],
   "source": [
    "\"\"\"\n",
    "DON'T MODIFY ANYTHING IN THIS CELL\n",
    "\"\"\"\n",
    "import numpy as np\n",
    "import helper\n",
    "\n",
    "(source_int_text, target_int_text), (source_vocab_to_int, target_vocab_to_int), _ = helper.load_preprocess()"
   ]
  },
  {
   "cell_type": "markdown",
   "metadata": {},
   "source": [
    "### Check the Version of TensorFlow and Access to GPU\n",
    "This will check to make sure you have the correct version of TensorFlow and access to a GPU"
   ]
  },
  {
   "cell_type": "code",
   "execution_count": 6,
   "metadata": {},
   "outputs": [
    {
     "name": "stdout",
     "output_type": "stream",
     "text": [
      "TensorFlow Version: 1.1.0\n",
      "Default GPU Device: /gpu:0\n"
     ]
    }
   ],
   "source": [
    "\"\"\"\n",
    "DON'T MODIFY ANYTHING IN THIS CELL\n",
    "\"\"\"\n",
    "from distutils.version import LooseVersion\n",
    "import warnings\n",
    "import tensorflow as tf\n",
    "from tensorflow.python.layers.core import Dense\n",
    "\n",
    "# Check TensorFlow Version\n",
    "assert LooseVersion(tf.__version__) >= LooseVersion('1.1'), 'Please use TensorFlow version 1.1 or newer'\n",
    "print('TensorFlow Version: {}'.format(tf.__version__))\n",
    "\n",
    "# Check for a GPU\n",
    "if not tf.test.gpu_device_name():\n",
    "    warnings.warn('No GPU found. Please use a GPU to train your neural network.')\n",
    "else:\n",
    "    print('Default GPU Device: {}'.format(tf.test.gpu_device_name()))"
   ]
  },
  {
   "cell_type": "markdown",
   "metadata": {},
   "source": [
    "## Build the Neural Network\n",
    "You'll build the components necessary to build a Sequence-to-Sequence model by implementing the following functions below:\n",
    "- `model_inputs`\n",
    "- `process_decoder_input`\n",
    "- `encoding_layer`\n",
    "- `decoding_layer_train`\n",
    "- `decoding_layer_infer`\n",
    "- `decoding_layer`\n",
    "- `seq2seq_model`\n",
    "\n",
    "### Input\n",
    "Implement the `model_inputs()` function to create TF Placeholders for the Neural Network. It should create the following placeholders:\n",
    "\n",
    "- Input text placeholder named \"input\" using the TF Placeholder name parameter with rank 2.\n",
    "- Targets placeholder with rank 2.\n",
    "- Learning rate placeholder with rank 0.\n",
    "- Keep probability placeholder named \"keep_prob\" using the TF Placeholder name parameter with rank 0.\n",
    "- Target sequence length placeholder named \"target_sequence_length\" with rank 1\n",
    "- Max target sequence length tensor named \"max_target_len\" getting its value from applying tf.reduce_max on the target_sequence_length placeholder. Rank 0.\n",
    "- Source sequence length placeholder named \"source_sequence_length\" with rank 1\n",
    "\n",
    "Return the placeholders in the following the tuple (input, targets, learning rate, keep probability, target sequence length, max target sequence length, source sequence length)"
   ]
  },
  {
   "cell_type": "code",
   "execution_count": 7,
   "metadata": {},
   "outputs": [
    {
     "name": "stdout",
     "output_type": "stream",
     "text": [
      "Tests Passed\n"
     ]
    }
   ],
   "source": [
    "def model_inputs():\n",
    "    \"\"\"\n",
    "    Create TF Placeholders for input, targets, learning rate, and lengths of source and target sequences.\n",
    "    :return: Tuple (input, targets, learning rate, keep probability, target sequence length,\n",
    "    max target sequence length, source sequence length)\n",
    "    \"\"\"\n",
    "    # TODO: Implement Function\n",
    "    input_data = tf.placeholder(tf.int32, [None, None], name='input')\n",
    "    targets = tf.placeholder(tf.int32, [None, None], name='targets')\n",
    "    lr = tf.placeholder(tf.float32, name='learning_rate')\n",
    "    keep_prob = tf.placeholder(tf.float32, name='keep_prob')\n",
    "    \n",
    "    target_sequence_length = tf.placeholder(tf.int32, (None,), name='target_sequence_length')\n",
    "    max_target_sequence_length = tf.reduce_max(target_sequence_length, name='max_target_len')\n",
    "    source_sequence_length = tf.placeholder(tf.int32, (None,), name='source_sequence_length')\n",
    "    \n",
    "    return input_data, targets, lr, keep_prob, target_sequence_length, max_target_sequence_length, source_sequence_length\n",
    "\n",
    "\n",
    "\"\"\"\n",
    "DON'T MODIFY ANYTHING IN THIS CELL THAT IS BELOW THIS LINE\n",
    "\"\"\"\n",
    "tests.test_model_inputs(model_inputs)"
   ]
  },
  {
   "cell_type": "markdown",
   "metadata": {},
   "source": [
    "### Process Decoder Input\n",
    "Implement `process_decoder_input` by removing the last word id from each batch in `target_data` and concat the GO ID to the begining of each batch."
   ]
  },
  {
   "cell_type": "code",
   "execution_count": 8,
   "metadata": {},
   "outputs": [
    {
     "name": "stdout",
     "output_type": "stream",
     "text": [
      "Tests Passed\n"
     ]
    }
   ],
   "source": [
    "def process_decoder_input(target_data, target_vocab_to_int, batch_size):\n",
    "    \"\"\"\n",
    "    Preprocess target data for encoding\n",
    "    :param target_data: Target Placehoder\n",
    "    :param target_vocab_to_int: Dictionary to go from the target words to an id\n",
    "    :param batch_size: Batch Size\n",
    "    :return: Preprocessed target data\n",
    "    \"\"\"\n",
    "    # TODO: Implement Function\n",
    "    ending = tf.strided_slice(target_data, [0, 0], [batch_size, -1], [1, 1])\n",
    "    processor_decoder_input = tf.concat([tf.fill([batch_size, 1], target_vocab_to_int['<GO>']), ending], 1)\n",
    "    return processor_decoder_input\n",
    "\n",
    "\"\"\"\n",
    "DON'T MODIFY ANYTHING IN THIS CELL THAT IS BELOW THIS LINE\n",
    "\"\"\"\n",
    "tests.test_process_encoding_input(process_decoder_input)"
   ]
  },
  {
   "cell_type": "markdown",
   "metadata": {},
   "source": [
    "### Encoding\n",
    "Implement `encoding_layer()` to create a Encoder RNN layer:\n",
    " * Embed the encoder input using [`tf.contrib.layers.embed_sequence`](https://www.tensorflow.org/api_docs/python/tf/contrib/layers/embed_sequence)\n",
    " * Construct a [stacked](https://github.com/tensorflow/tensorflow/blob/6947f65a374ebf29e74bb71e36fd82760056d82c/tensorflow/docs_src/tutorials/recurrent.md#stacking-multiple-lstms) [`tf.contrib.rnn.LSTMCell`](https://www.tensorflow.org/api_docs/python/tf/contrib/rnn/LSTMCell) wrapped in a [`tf.contrib.rnn.DropoutWrapper`](https://www.tensorflow.org/api_docs/python/tf/contrib/rnn/DropoutWrapper)\n",
    " * Pass cell and embedded input to [`tf.nn.dynamic_rnn()`](https://www.tensorflow.org/api_docs/python/tf/nn/dynamic_rnn)"
   ]
  },
  {
   "cell_type": "code",
   "execution_count": 9,
   "metadata": {
    "scrolled": false
   },
   "outputs": [
    {
     "name": "stdout",
     "output_type": "stream",
     "text": [
      "Tests Passed\n"
     ]
    }
   ],
   "source": [
    "from imp import reload\n",
    "reload(tests)\n",
    "\n",
    "def encoding_layer(rnn_inputs, rnn_size, num_layers, keep_prob, \n",
    "                   source_sequence_length, source_vocab_size, \n",
    "                   encoding_embedding_size):\n",
    "    \"\"\"\n",
    "    Create encoding layer\n",
    "    :param rnn_inputs: Inputs for the RNN\n",
    "    :param rnn_size: RNN Size\n",
    "    :param num_layers: Number of layers\n",
    "    :param keep_prob: Dropout keep probability\n",
    "    :param source_sequence_length: a list of the lengths of each sequence in the batch\n",
    "    :param source_vocab_size: vocabulary size of source data\n",
    "    :param encoding_embedding_size: embedding size of source data\n",
    "    :return: tuple (RNN output, RNN state)\n",
    "    \"\"\"\n",
    "    # TODO: Implement Function\n",
    "    enc_embed_input = tf.contrib.layers.embed_sequence(rnn_inputs, source_vocab_size, encoding_embedding_size)\n",
    "    # RNN cell\n",
    "    def make_cell(rnn_size):\n",
    "        enc_cell = tf.contrib.rnn.DropoutWrapper(tf.contrib.rnn.LSTMCell(rnn_size,\n",
    "                                           initializer=tf.random_uniform_initializer(-0.1, 0.1, seed=2)), output_keep_prob=keep_prob)\n",
    "        return enc_cell\n",
    "    \n",
    "    enc_cell = tf.contrib.rnn.MultiRNNCell([make_cell(rnn_size) for _ in range(num_layers)])\n",
    "    enc_output, enc_state = tf.nn.dynamic_rnn(enc_cell, enc_embed_input, sequence_length=source_sequence_length, dtype=tf.float32)\n",
    " \n",
    "    \n",
    "    return enc_output, enc_state\n",
    "\n",
    "\"\"\"\n",
    "DON'T MODIFY ANYTHING IN THIS CELL THAT IS BELOW THIS LINE\n",
    "\"\"\"\n",
    "tests.test_encoding_layer(encoding_layer)"
   ]
  },
  {
   "cell_type": "markdown",
   "metadata": {},
   "source": [
    "### Decoding - Training\n",
    "Create a training decoding layer:\n",
    "* Create a [`tf.contrib.seq2seq.TrainingHelper`](https://www.tensorflow.org/api_docs/python/tf/contrib/seq2seq/TrainingHelper) \n",
    "* Create a [`tf.contrib.seq2seq.BasicDecoder`](https://www.tensorflow.org/api_docs/python/tf/contrib/seq2seq/BasicDecoder)\n",
    "* Obtain the decoder outputs from [`tf.contrib.seq2seq.dynamic_decode`](https://www.tensorflow.org/api_docs/python/tf/contrib/seq2seq/dynamic_decode)"
   ]
  },
  {
   "cell_type": "code",
   "execution_count": 10,
   "metadata": {},
   "outputs": [
    {
     "name": "stdout",
     "output_type": "stream",
     "text": [
      "Tests Passed\n"
     ]
    }
   ],
   "source": [
    "\n",
    "def decoding_layer_train(encoder_state, dec_cell, dec_embed_input, \n",
    "                         target_sequence_length, max_summary_length, \n",
    "                         output_layer, keep_prob):\n",
    "    \"\"\"\n",
    "    Create a decoding layer for training\n",
    "    :param encoder_state: Encoder State\n",
    "    :param dec_cell: Decoder RNN Cell\n",
    "    :param dec_embed_input: Decoder embedded input\n",
    "    :param target_sequence_length: The lengths of each sequence in the target batch\n",
    "    :param max_summary_length: The length of the longest sequence in the batch\n",
    "    :param output_layer: Function to apply the output layer\n",
    "    :param keep_prob: Dropout keep probability\n",
    "    :return: BasicDecoderOutput containing training logits and sample_id\n",
    "    \"\"\"\n",
    "    # TODO: Implement Function\n",
    "    # Training Decoder\n",
    "    dec_cell = tf.contrib.rnn.DropoutWrapper(dec_cell, output_keep_prob=keep_prob)\n",
    "\n",
    "    # Helper for the training process. Used by BasicDecoder to read inputs.\n",
    "    training_helper = tf.contrib.seq2seq.TrainingHelper(inputs=dec_embed_input,\n",
    "                                                        sequence_length=target_sequence_length,\n",
    "                                                        time_major=False)\n",
    "\n",
    "\n",
    "    # Basic decoder\n",
    "    training_decoder = tf.contrib.seq2seq.BasicDecoder(dec_cell,\n",
    "                                                       training_helper,\n",
    "                                                       encoder_state,\n",
    "                                                       output_layer) \n",
    "\n",
    "    # Perform dynamic decoding using the decoder\n",
    "    BasicDecoderOutput, _ = tf.contrib.seq2seq.dynamic_decode(training_decoder,\n",
    "                                                                   impute_finished=True,\n",
    "                                                                   maximum_iterations=max_summary_length)\n",
    "    \n",
    "    return BasicDecoderOutput\n",
    "\n",
    "\n",
    "\n",
    "\"\"\"\n",
    "DON'T MODIFY ANYTHING IN THIS CELL THAT IS BELOW THIS LINE\n",
    "\"\"\"\n",
    "tests.test_decoding_layer_train(decoding_layer_train)"
   ]
  },
  {
   "cell_type": "markdown",
   "metadata": {},
   "source": [
    "### Decoding - Inference\n",
    "Create inference decoder:\n",
    "* Create a [`tf.contrib.seq2seq.GreedyEmbeddingHelper`](https://www.tensorflow.org/api_docs/python/tf/contrib/seq2seq/GreedyEmbeddingHelper)\n",
    "* Create a [`tf.contrib.seq2seq.BasicDecoder`](https://www.tensorflow.org/api_docs/python/tf/contrib/seq2seq/BasicDecoder)\n",
    "* Obtain the decoder outputs from [`tf.contrib.seq2seq.dynamic_decode`](https://www.tensorflow.org/api_docs/python/tf/contrib/seq2seq/dynamic_decode)"
   ]
  },
  {
   "cell_type": "code",
   "execution_count": 11,
   "metadata": {
    "scrolled": true
   },
   "outputs": [
    {
     "name": "stdout",
     "output_type": "stream",
     "text": [
      "Tests Passed\n"
     ]
    }
   ],
   "source": [
    "def decoding_layer_infer(encoder_state, dec_cell, dec_embeddings, start_of_sequence_id,\n",
    "                         end_of_sequence_id, max_target_sequence_length,\n",
    "                         vocab_size, output_layer, batch_size, keep_prob):\n",
    "    \"\"\"\n",
    "    Create a decoding layer for inference\n",
    "    :param encoder_state: Encoder state\n",
    "    :param dec_cell: Decoder RNN Cell\n",
    "    :param dec_embeddings: Decoder embeddings\n",
    "    :param start_of_sequence_id: GO ID\n",
    "    :param end_of_sequence_id: EOS Id\n",
    "    :param max_target_sequence_length: Maximum length of target sequences\n",
    "    :param vocab_size: Size of decoder/target vocabulary\n",
    "    :param decoding_scope: TenorFlow Variable Scope for decoding\n",
    "    :param output_layer: Function to apply the output layer\n",
    "    :param batch_size: Batch size\n",
    "    :param keep_prob: Dropout keep probability\n",
    "    :return: BasicDecoderOutput containing inference logits and sample_id\n",
    "    \"\"\"\n",
    "    # TODO: Implement Function\n",
    "    dec_cell = tf.contrib.rnn.DropoutWrapper(dec_cell, output_keep_prob=keep_prob)\n",
    "    \n",
    "    # Reuses the same parameters trained by the training process\n",
    "    start_tokens = tf.tile(tf.constant([start_of_sequence_id], dtype=tf.int32), [batch_size], name='start_tokens')\n",
    "\n",
    "    # Helper for the inference process.\n",
    "    inference_helper = tf.contrib.seq2seq.GreedyEmbeddingHelper(dec_embeddings,\n",
    "                                                            start_tokens,\n",
    "                                                            end_of_sequence_id)\n",
    "\n",
    "    # Basic decoder\n",
    "    inference_decoder = tf.contrib.seq2seq.BasicDecoder(dec_cell,\n",
    "                                                    inference_helper,\n",
    "                                                    encoder_state,\n",
    "                                                    output_layer)\n",
    "\n",
    "    # Perform dynamic decoding using the decoder\n",
    "    BasicDecoderOutput, _ = tf.contrib.seq2seq.dynamic_decode(inference_decoder,\n",
    "                                                        impute_finished=True,\n",
    "                                                        maximum_iterations=max_target_sequence_length)\n",
    "    \n",
    "    return BasicDecoderOutput\n",
    "\n",
    "\n",
    "\n",
    "\"\"\"\n",
    "DON'T MODIFY ANYTHING IN THIS CELL THAT IS BELOW THIS LINE\n",
    "\"\"\"\n",
    "tests.test_decoding_layer_infer(decoding_layer_infer)"
   ]
  },
  {
   "cell_type": "markdown",
   "metadata": {},
   "source": [
    "### Build the Decoding Layer\n",
    "Implement `decoding_layer()` to create a Decoder RNN layer.\n",
    "\n",
    "* Embed the target sequences\n",
    "* Construct the decoder LSTM cell (just like you constructed the encoder cell above)\n",
    "* Create an output layer to map the outputs of the decoder to the elements of our vocabulary\n",
    "* Use the your `decoding_layer_train(encoder_state, dec_cell, dec_embed_input, target_sequence_length, max_target_sequence_length, output_layer, keep_prob)` function to get the training logits.\n",
    "* Use your `decoding_layer_infer(encoder_state, dec_cell, dec_embeddings, start_of_sequence_id, end_of_sequence_id, max_target_sequence_length, vocab_size, output_layer, batch_size, keep_prob)` function to get the inference logits.\n",
    "\n",
    "Note: You'll need to use [tf.variable_scope](https://www.tensorflow.org/api_docs/python/tf/variable_scope) to share variables between training and inference."
   ]
  },
  {
   "cell_type": "code",
   "execution_count": 13,
   "metadata": {},
   "outputs": [
    {
     "name": "stdout",
     "output_type": "stream",
     "text": [
      "Tests Passed\n"
     ]
    }
   ],
   "source": [
    "def decoding_layer(dec_input, encoder_state,\n",
    "                   target_sequence_length, max_target_sequence_length,\n",
    "                   rnn_size,\n",
    "                   num_layers, target_vocab_to_int, target_vocab_size,\n",
    "                   batch_size, keep_prob, decoding_embedding_size):\n",
    "    \"\"\"\n",
    "    Create decoding layer\n",
    "    :param dec_input: Decoder input\n",
    "    :param encoder_state: Encoder state\n",
    "    :param target_sequence_length: The lengths of each sequence in the target batch\n",
    "    :param max_target_sequence_length: Maximum length of target sequences\n",
    "    :param rnn_size: RNN Size\n",
    "    :param num_layers: Number of layers\n",
    "    :param target_vocab_to_int: Dictionary to go from the target words to an id\n",
    "    :param target_vocab_size: Size of target vocabulary\n",
    "    :param batch_size: The size of the batch\n",
    "    :param keep_prob: Dropout keep probability\n",
    "    :return: Tuple of (Training BasicDecoderOutput, Inference BasicDecoderOutput)\n",
    "    \"\"\"\n",
    "    # TODO: Implement Function\n",
    "    dec_embeddings = tf.Variable(tf.random_uniform([target_vocab_size, decoding_embedding_size]))\n",
    "    \n",
    "    dec_embed_input = tf.nn.embedding_lookup(dec_embeddings, dec_input)\n",
    "    # RNN cell\n",
    "    def make_cell(rnn_size):\n",
    "        dec_cell = tf.contrib.rnn.LSTMCell(rnn_size,\n",
    "                                           initializer=tf.random_uniform_initializer(-0.1, 0.1, seed=2))\n",
    "      \n",
    "        #dec_cell = tf.contrib.rnn.DropoutWrapper(tf.contrib.rnn.LSTMCell(rnn_size,\n",
    "        #                                   initializer=tf.random_uniform_initializer(-0.1, 0.1, seed=2)), output_keep_prob=keep_prob)\n",
    "        return dec_cell\n",
    "    \n",
    "    dec_cell = tf.contrib.rnn.MultiRNNCell([make_cell(rnn_size) for _ in range(num_layers)])\n",
    " \n",
    "    \n",
    "    output_layer = Dense(target_vocab_size,\n",
    "                         kernel_initializer = tf.truncated_normal_initializer(mean = 0.0, stddev=0.1))\n",
    "    \n",
    "    with tf.variable_scope(\"decoding\") as decoding_scope:\n",
    "        Training_BasicDecoderOutput = decoding_layer_train(encoder_state, dec_cell, dec_embed_input, target_sequence_length, \n",
    "                                            max_target_sequence_length, output_layer, keep_prob)\n",
    "    \n",
    "    with tf.variable_scope(\"decoding\", reuse=True) as decoding_scope:\n",
    "        Inference_BasicDecoderOutput = decoding_layer_infer(encoder_state, dec_cell, dec_embeddings, target_vocab_to_int['<GO>'], target_vocab_to_int['<EOS>'], \n",
    "                                            max_target_sequence_length, target_vocab_size, output_layer, batch_size, keep_prob)\n",
    "    \n",
    "    \n",
    "    return Training_BasicDecoderOutput, Inference_BasicDecoderOutput\n",
    "\n",
    "\n",
    "\n",
    "\"\"\"\n",
    "DON'T MODIFY ANYTHING IN THIS CELL THAT IS BELOW THIS LINE\n",
    "\"\"\"\n",
    "tests.test_decoding_layer(decoding_layer)"
   ]
  },
  {
   "cell_type": "markdown",
   "metadata": {},
   "source": [
    "### Build the Neural Network\n",
    "Apply the functions you implemented above to:\n",
    "\n",
    "- Apply embedding to the input data for the encoder.\n",
    "- Encode the input using your `encoding_layer(rnn_inputs, rnn_size, num_layers, keep_prob,  source_sequence_length, source_vocab_size, encoding_embedding_size)`.\n",
    "- Process target data using your `process_decoder_input(target_data, target_vocab_to_int, batch_size)` function.\n",
    "- Apply embedding to the target data for the decoder.\n",
    "- Decode the encoded input using your `decoding_layer(dec_input, enc_state, target_sequence_length, max_target_sentence_length, rnn_size, num_layers, target_vocab_to_int, target_vocab_size, batch_size, keep_prob, dec_embedding_size)` function."
   ]
  },
  {
   "cell_type": "code",
   "execution_count": 14,
   "metadata": {},
   "outputs": [
    {
     "name": "stdout",
     "output_type": "stream",
     "text": [
      "Tests Passed\n"
     ]
    }
   ],
   "source": [
    "def seq2seq_model(input_data, target_data, keep_prob, batch_size,\n",
    "                  source_sequence_length, target_sequence_length,\n",
    "                  max_target_sentence_length,\n",
    "                  source_vocab_size, target_vocab_size,\n",
    "                  enc_embedding_size, dec_embedding_size,\n",
    "                  rnn_size, num_layers, target_vocab_to_int):\n",
    "    \"\"\"\n",
    "    Build the Sequence-to-Sequence part of the neural network\n",
    "    :param input_data: Input placeholder\n",
    "    :param target_data: Target placeholder\n",
    "    :param keep_prob: Dropout keep probability placeholder\n",
    "    :param batch_size: Batch Size\n",
    "    :param source_sequence_length: Sequence Lengths of source sequences in the batch\n",
    "    :param target_sequence_length: Sequence Lengths of target sequences in the batch\n",
    "    :param source_vocab_size: Source vocabulary size\n",
    "    :param target_vocab_size: Target vocabulary size\n",
    "    :param enc_embedding_size: Decoder embedding size\n",
    "    :param dec_embedding_size: Encoder embedding size\n",
    "    :param rnn_size: RNN Size\n",
    "    :param num_layers: Number of layers\n",
    "    :param target_vocab_to_int: Dictionary to go from the target words to an id\n",
    "    :return: Tuple of (Training BasicDecoderOutput, Inference BasicDecoderOutput)\n",
    "    \"\"\"\n",
    "    # TODO: Implement Function\n",
    "    #enc_embeddings = tf.Variable(tf.random_uniform([source_vocab_size, enc_embedding_size]))\n",
    "    \n",
    "    _, enc_state = encoding_layer(input_data, rnn_size, num_layers, keep_prob, \n",
    "                   source_sequence_length, source_vocab_size, \n",
    "                   enc_embedding_size)\n",
    "    \n",
    "    processor_decoder_input = process_decoder_input(target_data, target_vocab_to_int, batch_size)\n",
    "    \n",
    "    #dec_embeddings = tf.Variable(tf.random_uniform([target_vocab_size, dec_embedding_size]))\n",
    "    \n",
    "    Training_BasicDecoderOutput, Inference_BasicDecoderOutput = decoding_layer(processor_decoder_input, enc_state,\n",
    "                   target_sequence_length, max_target_sentence_length,\n",
    "                   rnn_size,\n",
    "                   num_layers, target_vocab_to_int, target_vocab_size,\n",
    "                   batch_size, keep_prob, dec_embedding_size)\n",
    "    \n",
    "    \n",
    "    return Training_BasicDecoderOutput, Inference_BasicDecoderOutput\n",
    "\n",
    "\n",
    "\"\"\"\n",
    "DON'T MODIFY ANYTHING IN THIS CELL THAT IS BELOW THIS LINE\n",
    "\"\"\"\n",
    "tests.test_seq2seq_model(seq2seq_model)"
   ]
  },
  {
   "cell_type": "markdown",
   "metadata": {},
   "source": [
    "## Neural Network Training\n",
    "### Hyperparameters\n",
    "Tune the following parameters:\n",
    "\n",
    "- Set `epochs` to the number of epochs.\n",
    "- Set `batch_size` to the batch size.\n",
    "- Set `rnn_size` to the size of the RNNs.\n",
    "- Set `num_layers` to the number of layers.\n",
    "- Set `encoding_embedding_size` to the size of the embedding for the encoder.\n",
    "- Set `decoding_embedding_size` to the size of the embedding for the decoder.\n",
    "- Set `learning_rate` to the learning rate.\n",
    "- Set `keep_probability` to the Dropout keep probability\n",
    "- Set `display_step` to state how many steps between each debug output statement"
   ]
  },
  {
   "cell_type": "code",
   "execution_count": 34,
   "metadata": {
    "collapsed": true
   },
   "outputs": [],
   "source": [
    "# Number of Epochs\n",
    "epochs = 10\n",
    "# Batch Size\n",
    "batch_size = 512\n",
    "# RNN Size\n",
    "rnn_size = 64\n",
    "# Number of Layers\n",
    "num_layers = 2\n",
    "# Embedding Size\n",
    "encoding_embedding_size = 128\n",
    "decoding_embedding_size = 128\n",
    "# Learning Rate\n",
    "learning_rate = 0.005\n",
    "# Dropout Keep Probability\n",
    "keep_probability = 0.7\n",
    "display_step = 10"
   ]
  },
  {
   "cell_type": "markdown",
   "metadata": {},
   "source": [
    "### Build the Graph\n",
    "Build the graph using the neural network you implemented."
   ]
  },
  {
   "cell_type": "code",
   "execution_count": 35,
   "metadata": {
    "collapsed": true
   },
   "outputs": [],
   "source": [
    "\"\"\"\n",
    "DON'T MODIFY ANYTHING IN THIS CELL\n",
    "\"\"\"\n",
    "save_path = 'checkpoints/dev'\n",
    "(source_int_text, target_int_text), (source_vocab_to_int, target_vocab_to_int), _ = helper.load_preprocess()\n",
    "max_target_sentence_length = max([len(sentence) for sentence in source_int_text])\n",
    "\n",
    "train_graph = tf.Graph()\n",
    "with train_graph.as_default():\n",
    "    input_data, targets, lr, keep_prob, target_sequence_length, max_target_sequence_length, source_sequence_length = model_inputs()\n",
    "\n",
    "    #sequence_length = tf.placeholder_with_default(max_target_sentence_length, None, name='sequence_length')\n",
    "    input_shape = tf.shape(input_data)\n",
    "\n",
    "    train_logits, inference_logits = seq2seq_model(tf.reverse(input_data, [-1]),\n",
    "                                                   targets,\n",
    "                                                   keep_prob,\n",
    "                                                   batch_size,\n",
    "                                                   source_sequence_length,\n",
    "                                                   target_sequence_length,\n",
    "                                                   max_target_sequence_length,\n",
    "                                                   len(source_vocab_to_int),\n",
    "                                                   len(target_vocab_to_int),\n",
    "                                                   encoding_embedding_size,\n",
    "                                                   decoding_embedding_size,\n",
    "                                                   rnn_size,\n",
    "                                                   num_layers,\n",
    "                                                   target_vocab_to_int)\n",
    "\n",
    "\n",
    "    training_logits = tf.identity(train_logits.rnn_output, name='logits')\n",
    "    inference_logits = tf.identity(inference_logits.sample_id, name='predictions')\n",
    "\n",
    "    masks = tf.sequence_mask(target_sequence_length, max_target_sequence_length, dtype=tf.float32, name='masks')\n",
    "\n",
    "    with tf.name_scope(\"optimization\"):\n",
    "        # Loss function\n",
    "        cost = tf.contrib.seq2seq.sequence_loss(\n",
    "            training_logits,\n",
    "            targets,\n",
    "            masks)\n",
    "\n",
    "        # Optimizer\n",
    "        optimizer = tf.train.AdamOptimizer(lr)\n",
    "\n",
    "        # Gradient Clipping\n",
    "        gradients = optimizer.compute_gradients(cost)\n",
    "        capped_gradients = [(tf.clip_by_value(grad, -1., 1.), var) for grad, var in gradients if grad is not None]\n",
    "        train_op = optimizer.apply_gradients(capped_gradients)\n"
   ]
  },
  {
   "cell_type": "markdown",
   "metadata": {},
   "source": [
    "Batch and pad the source and target sequences"
   ]
  },
  {
   "cell_type": "code",
   "execution_count": 36,
   "metadata": {
    "collapsed": true
   },
   "outputs": [],
   "source": [
    "\"\"\"\n",
    "DON'T MODIFY ANYTHING IN THIS CELL\n",
    "\"\"\"\n",
    "def pad_sentence_batch(sentence_batch, pad_int):\n",
    "    \"\"\"Pad sentences with <PAD> so that each sentence of a batch has the same length\"\"\"\n",
    "    max_sentence = max([len(sentence) for sentence in sentence_batch])\n",
    "    return [sentence + [pad_int] * (max_sentence - len(sentence)) for sentence in sentence_batch]\n",
    "\n",
    "\n",
    "def get_batches(sources, targets, batch_size, source_pad_int, target_pad_int):\n",
    "    \"\"\"Batch targets, sources, and the lengths of their sentences together\"\"\"\n",
    "    for batch_i in range(0, len(sources)//batch_size):\n",
    "        start_i = batch_i * batch_size\n",
    "\n",
    "        # Slice the right amount for the batch\n",
    "        sources_batch = sources[start_i:start_i + batch_size]\n",
    "        targets_batch = targets[start_i:start_i + batch_size]\n",
    "\n",
    "        # Pad\n",
    "        pad_sources_batch = np.array(pad_sentence_batch(sources_batch, source_pad_int))\n",
    "        pad_targets_batch = np.array(pad_sentence_batch(targets_batch, target_pad_int))\n",
    "\n",
    "        # Need the lengths for the _lengths parameters\n",
    "        pad_targets_lengths = []\n",
    "        for target in pad_targets_batch:\n",
    "            pad_targets_lengths.append(len(target))\n",
    "\n",
    "        pad_source_lengths = []\n",
    "        for source in pad_sources_batch:\n",
    "            pad_source_lengths.append(len(source))\n",
    "\n",
    "        yield pad_sources_batch, pad_targets_batch, pad_source_lengths, pad_targets_lengths\n"
   ]
  },
  {
   "cell_type": "markdown",
   "metadata": {},
   "source": [
    "### Train\n",
    "Train the neural network on the preprocessed data. If you have a hard time getting a good loss, check the forms to see if anyone is having the same problem."
   ]
  },
  {
   "cell_type": "code",
   "execution_count": 37,
   "metadata": {
    "scrolled": true
   },
   "outputs": [
    {
     "name": "stdout",
     "output_type": "stream",
     "text": [
      "Epoch   0 Batch   10/269 - Train Accuracy: 0.2709, Validation Accuracy: 0.3428, Loss: 3.5972\n",
      "Epoch   0 Batch   20/269 - Train Accuracy: 0.3184, Validation Accuracy: 0.3826, Loss: 3.2119\n",
      "Epoch   0 Batch   30/269 - Train Accuracy: 0.3405, Validation Accuracy: 0.3782, Loss: 2.9149\n",
      "Epoch   0 Batch   40/269 - Train Accuracy: 0.3807, Validation Accuracy: 0.4366, Loss: 2.8804\n",
      "Epoch   0 Batch   50/269 - Train Accuracy: 0.3993, Validation Accuracy: 0.4517, Loss: 2.7367\n",
      "Epoch   0 Batch   60/269 - Train Accuracy: 0.4532, Validation Accuracy: 0.4668, Loss: 2.5086\n",
      "Epoch   0 Batch   70/269 - Train Accuracy: 0.4614, Validation Accuracy: 0.4781, Loss: 2.4652\n",
      "Epoch   0 Batch   80/269 - Train Accuracy: 0.4653, Validation Accuracy: 0.4807, Loss: 2.3403\n",
      "Epoch   0 Batch   90/269 - Train Accuracy: 0.4353, Validation Accuracy: 0.4952, Loss: 2.4653\n",
      "Epoch   0 Batch  100/269 - Train Accuracy: 0.5042, Validation Accuracy: 0.5036, Loss: 2.2127\n",
      "Epoch   0 Batch  110/269 - Train Accuracy: 0.4823, Validation Accuracy: 0.5104, Loss: 2.1894\n",
      "Epoch   0 Batch  120/269 - Train Accuracy: 0.4659, Validation Accuracy: 0.5082, Loss: 2.2085\n",
      "Epoch   0 Batch  130/269 - Train Accuracy: 0.4521, Validation Accuracy: 0.5021, Loss: 2.1567\n",
      "Epoch   0 Batch  140/269 - Train Accuracy: 0.4955, Validation Accuracy: 0.5056, Loss: 1.9247\n",
      "Epoch   0 Batch  150/269 - Train Accuracy: 0.5015, Validation Accuracy: 0.5186, Loss: 1.7995\n",
      "Epoch   0 Batch  160/269 - Train Accuracy: 0.5164, Validation Accuracy: 0.5321, Loss: 1.6693\n",
      "Epoch   0 Batch  170/269 - Train Accuracy: 0.4974, Validation Accuracy: 0.5179, Loss: 1.5164\n",
      "Epoch   0 Batch  180/269 - Train Accuracy: 0.4781, Validation Accuracy: 0.4992, Loss: 1.3958\n",
      "Epoch   0 Batch  190/269 - Train Accuracy: 0.5053, Validation Accuracy: 0.5337, Loss: 1.2816\n",
      "Epoch   0 Batch  200/269 - Train Accuracy: 0.4777, Validation Accuracy: 0.5184, Loss: 1.2546\n",
      "Epoch   0 Batch  210/269 - Train Accuracy: 0.4906, Validation Accuracy: 0.4980, Loss: 1.1379\n",
      "Epoch   0 Batch  220/269 - Train Accuracy: 0.5022, Validation Accuracy: 0.4965, Loss: 1.0384\n",
      "Epoch   0 Batch  230/269 - Train Accuracy: 0.4776, Validation Accuracy: 0.4972, Loss: 1.0460\n",
      "Epoch   0 Batch  240/269 - Train Accuracy: 0.5305, Validation Accuracy: 0.5006, Loss: 0.9405\n",
      "Epoch   0 Batch  250/269 - Train Accuracy: 0.4582, Validation Accuracy: 0.5013, Loss: 0.9996\n",
      "Epoch   0 Batch  260/269 - Train Accuracy: 0.5018, Validation Accuracy: 0.5257, Loss: 0.9849\n",
      "Epoch   1 Batch   10/269 - Train Accuracy: 0.5230, Validation Accuracy: 0.5517, Loss: 0.9006\n",
      "Epoch   1 Batch   20/269 - Train Accuracy: 0.5287, Validation Accuracy: 0.5575, Loss: 0.8913\n",
      "Epoch   1 Batch   30/269 - Train Accuracy: 0.5717, Validation Accuracy: 0.5750, Loss: 0.8346\n",
      "Epoch   1 Batch   40/269 - Train Accuracy: 0.5706, Validation Accuracy: 0.5972, Loss: 0.8524\n",
      "Epoch   1 Batch   50/269 - Train Accuracy: 0.5775, Validation Accuracy: 0.5979, Loss: 0.8231\n",
      "Epoch   1 Batch   60/269 - Train Accuracy: 0.6007, Validation Accuracy: 0.6025, Loss: 0.7499\n",
      "Epoch   1 Batch   70/269 - Train Accuracy: 0.6074, Validation Accuracy: 0.6064, Loss: 0.7676\n",
      "Epoch   1 Batch   80/269 - Train Accuracy: 0.6137, Validation Accuracy: 0.6119, Loss: 0.7459\n",
      "Epoch   1 Batch   90/269 - Train Accuracy: 0.5717, Validation Accuracy: 0.6062, Loss: 0.7841\n",
      "Epoch   1 Batch  100/269 - Train Accuracy: 0.6191, Validation Accuracy: 0.6196, Loss: 0.7119\n",
      "Epoch   1 Batch  110/269 - Train Accuracy: 0.6082, Validation Accuracy: 0.6195, Loss: 0.7024\n",
      "Epoch   1 Batch  120/269 - Train Accuracy: 0.6061, Validation Accuracy: 0.6282, Loss: 0.7226\n",
      "Epoch   1 Batch  130/269 - Train Accuracy: 0.5985, Validation Accuracy: 0.6365, Loss: 0.7192\n",
      "Epoch   1 Batch  140/269 - Train Accuracy: 0.6302, Validation Accuracy: 0.6300, Loss: 0.6833\n",
      "Epoch   1 Batch  150/269 - Train Accuracy: 0.6323, Validation Accuracy: 0.6381, Loss: 0.6726\n",
      "Epoch   1 Batch  160/269 - Train Accuracy: 0.6297, Validation Accuracy: 0.6381, Loss: 0.6413\n",
      "Epoch   1 Batch  170/269 - Train Accuracy: 0.6332, Validation Accuracy: 0.6421, Loss: 0.6272\n",
      "Epoch   1 Batch  180/269 - Train Accuracy: 0.6298, Validation Accuracy: 0.6453, Loss: 0.6124\n",
      "Epoch   1 Batch  190/269 - Train Accuracy: 0.6396, Validation Accuracy: 0.6466, Loss: 0.5954\n",
      "Epoch   1 Batch  200/269 - Train Accuracy: 0.6467, Validation Accuracy: 0.6608, Loss: 0.6169\n",
      "Epoch   1 Batch  210/269 - Train Accuracy: 0.6520, Validation Accuracy: 0.6555, Loss: 0.5896\n",
      "Epoch   1 Batch  220/269 - Train Accuracy: 0.6610, Validation Accuracy: 0.6590, Loss: 0.5511\n",
      "Epoch   1 Batch  230/269 - Train Accuracy: 0.6554, Validation Accuracy: 0.6659, Loss: 0.5647\n",
      "Epoch   1 Batch  240/269 - Train Accuracy: 0.6861, Validation Accuracy: 0.6678, Loss: 0.5079\n",
      "Epoch   1 Batch  250/269 - Train Accuracy: 0.6674, Validation Accuracy: 0.6871, Loss: 0.5590\n",
      "Epoch   1 Batch  260/269 - Train Accuracy: 0.6691, Validation Accuracy: 0.6890, Loss: 0.5673\n",
      "Epoch   2 Batch   10/269 - Train Accuracy: 0.6696, Validation Accuracy: 0.6924, Loss: 0.5375\n",
      "Epoch   2 Batch   20/269 - Train Accuracy: 0.6848, Validation Accuracy: 0.6980, Loss: 0.5379\n",
      "Epoch   2 Batch   30/269 - Train Accuracy: 0.6880, Validation Accuracy: 0.6926, Loss: 0.5032\n",
      "Epoch   2 Batch   40/269 - Train Accuracy: 0.6926, Validation Accuracy: 0.7011, Loss: 0.5219\n",
      "Epoch   2 Batch   50/269 - Train Accuracy: 0.6916, Validation Accuracy: 0.7119, Loss: 0.5061\n",
      "Epoch   2 Batch   60/269 - Train Accuracy: 0.7048, Validation Accuracy: 0.7035, Loss: 0.4662\n",
      "Epoch   2 Batch   70/269 - Train Accuracy: 0.7146, Validation Accuracy: 0.7157, Loss: 0.4826\n",
      "Epoch   2 Batch   80/269 - Train Accuracy: 0.7123, Validation Accuracy: 0.7218, Loss: 0.4663\n",
      "Epoch   2 Batch   90/269 - Train Accuracy: 0.6648, Validation Accuracy: 0.7037, Loss: 0.5126\n",
      "Epoch   2 Batch  100/269 - Train Accuracy: 0.7331, Validation Accuracy: 0.7175, Loss: 0.4625\n",
      "Epoch   2 Batch  110/269 - Train Accuracy: 0.7187, Validation Accuracy: 0.7227, Loss: 0.4530\n",
      "Epoch   2 Batch  120/269 - Train Accuracy: 0.7062, Validation Accuracy: 0.7230, Loss: 0.4628\n",
      "Epoch   2 Batch  130/269 - Train Accuracy: 0.7092, Validation Accuracy: 0.7312, Loss: 0.4660\n",
      "Epoch   2 Batch  140/269 - Train Accuracy: 0.7170, Validation Accuracy: 0.7314, Loss: 0.4549\n",
      "Epoch   2 Batch  150/269 - Train Accuracy: 0.7355, Validation Accuracy: 0.7394, Loss: 0.4273\n",
      "Epoch   2 Batch  160/269 - Train Accuracy: 0.7408, Validation Accuracy: 0.7411, Loss: 0.4205\n",
      "Epoch   2 Batch  170/269 - Train Accuracy: 0.7200, Validation Accuracy: 0.7417, Loss: 0.4245\n",
      "Epoch   2 Batch  180/269 - Train Accuracy: 0.7425, Validation Accuracy: 0.7449, Loss: 0.4162\n",
      "Epoch   2 Batch  190/269 - Train Accuracy: 0.7408, Validation Accuracy: 0.7457, Loss: 0.4049\n",
      "Epoch   2 Batch  200/269 - Train Accuracy: 0.7406, Validation Accuracy: 0.7461, Loss: 0.4216\n",
      "Epoch   2 Batch  210/269 - Train Accuracy: 0.7524, Validation Accuracy: 0.7533, Loss: 0.4001\n",
      "Epoch   2 Batch  220/269 - Train Accuracy: 0.7445, Validation Accuracy: 0.7513, Loss: 0.3763\n",
      "Epoch   2 Batch  230/269 - Train Accuracy: 0.7487, Validation Accuracy: 0.7560, Loss: 0.3845\n",
      "Epoch   2 Batch  240/269 - Train Accuracy: 0.7713, Validation Accuracy: 0.7504, Loss: 0.3538\n",
      "Epoch   2 Batch  250/269 - Train Accuracy: 0.7374, Validation Accuracy: 0.7542, Loss: 0.3869\n",
      "Epoch   2 Batch  260/269 - Train Accuracy: 0.7410, Validation Accuracy: 0.7597, Loss: 0.3860\n",
      "Epoch   3 Batch   10/269 - Train Accuracy: 0.7639, Validation Accuracy: 0.7674, Loss: 0.3706\n",
      "Epoch   3 Batch   20/269 - Train Accuracy: 0.7633, Validation Accuracy: 0.7718, Loss: 0.3672\n",
      "Epoch   3 Batch   30/269 - Train Accuracy: 0.7726, Validation Accuracy: 0.7742, Loss: 0.3404\n",
      "Epoch   3 Batch   40/269 - Train Accuracy: 0.7671, Validation Accuracy: 0.7755, Loss: 0.3546\n",
      "Epoch   3 Batch   50/269 - Train Accuracy: 0.7670, Validation Accuracy: 0.7716, Loss: 0.3568\n",
      "Epoch   3 Batch   60/269 - Train Accuracy: 0.7654, Validation Accuracy: 0.7824, Loss: 0.3187\n",
      "Epoch   3 Batch   70/269 - Train Accuracy: 0.7909, Validation Accuracy: 0.7826, Loss: 0.3315\n",
      "Epoch   3 Batch   80/269 - Train Accuracy: 0.7907, Validation Accuracy: 0.7952, Loss: 0.3105\n",
      "Epoch   3 Batch   90/269 - Train Accuracy: 0.7529, Validation Accuracy: 0.7730, Loss: 0.3310\n",
      "Epoch   3 Batch  100/269 - Train Accuracy: 0.8210, Validation Accuracy: 0.7927, Loss: 0.2989\n",
      "Epoch   3 Batch  110/269 - Train Accuracy: 0.7682, Validation Accuracy: 0.7635, Loss: 0.2956\n"
     ]
    },
    {
     "name": "stdout",
     "output_type": "stream",
     "text": [
      "Epoch   3 Batch  120/269 - Train Accuracy: 0.7953, Validation Accuracy: 0.8079, Loss: 0.3042\n",
      "Epoch   3 Batch  130/269 - Train Accuracy: 0.7909, Validation Accuracy: 0.7900, Loss: 0.3132\n",
      "Epoch   3 Batch  140/269 - Train Accuracy: 0.8034, Validation Accuracy: 0.7937, Loss: 0.3029\n",
      "Epoch   3 Batch  150/269 - Train Accuracy: 0.7919, Validation Accuracy: 0.7888, Loss: 0.2791\n",
      "Epoch   3 Batch  160/269 - Train Accuracy: 0.8183, Validation Accuracy: 0.8066, Loss: 0.2810\n",
      "Epoch   3 Batch  170/269 - Train Accuracy: 0.8069, Validation Accuracy: 0.7914, Loss: 0.2692\n",
      "Epoch   3 Batch  180/269 - Train Accuracy: 0.7999, Validation Accuracy: 0.7927, Loss: 0.2744\n",
      "Epoch   3 Batch  190/269 - Train Accuracy: 0.8205, Validation Accuracy: 0.7989, Loss: 0.2628\n",
      "Epoch   3 Batch  200/269 - Train Accuracy: 0.8089, Validation Accuracy: 0.8099, Loss: 0.2753\n",
      "Epoch   3 Batch  210/269 - Train Accuracy: 0.8052, Validation Accuracy: 0.8053, Loss: 0.2581\n",
      "Epoch   3 Batch  220/269 - Train Accuracy: 0.8114, Validation Accuracy: 0.8029, Loss: 0.2430\n",
      "Epoch   3 Batch  230/269 - Train Accuracy: 0.8062, Validation Accuracy: 0.8181, Loss: 0.2512\n",
      "Epoch   3 Batch  240/269 - Train Accuracy: 0.8251, Validation Accuracy: 0.8065, Loss: 0.2261\n",
      "Epoch   3 Batch  250/269 - Train Accuracy: 0.8218, Validation Accuracy: 0.8278, Loss: 0.2434\n",
      "Epoch   3 Batch  260/269 - Train Accuracy: 0.8026, Validation Accuracy: 0.8128, Loss: 0.2475\n",
      "Epoch   4 Batch   10/269 - Train Accuracy: 0.8281, Validation Accuracy: 0.8210, Loss: 0.2277\n",
      "Epoch   4 Batch   20/269 - Train Accuracy: 0.8385, Validation Accuracy: 0.8269, Loss: 0.2297\n",
      "Epoch   4 Batch   30/269 - Train Accuracy: 0.8223, Validation Accuracy: 0.8224, Loss: 0.2244\n",
      "Epoch   4 Batch   40/269 - Train Accuracy: 0.8131, Validation Accuracy: 0.8225, Loss: 0.2261\n",
      "Epoch   4 Batch   50/269 - Train Accuracy: 0.8188, Validation Accuracy: 0.8317, Loss: 0.2290\n",
      "Epoch   4 Batch   60/269 - Train Accuracy: 0.8278, Validation Accuracy: 0.8305, Loss: 0.2041\n",
      "Epoch   4 Batch   70/269 - Train Accuracy: 0.8384, Validation Accuracy: 0.8268, Loss: 0.2145\n",
      "Epoch   4 Batch   80/269 - Train Accuracy: 0.8348, Validation Accuracy: 0.8365, Loss: 0.2037\n",
      "Epoch   4 Batch   90/269 - Train Accuracy: 0.8187, Validation Accuracy: 0.8359, Loss: 0.2038\n",
      "Epoch   4 Batch  100/269 - Train Accuracy: 0.8581, Validation Accuracy: 0.8491, Loss: 0.1940\n",
      "Epoch   4 Batch  110/269 - Train Accuracy: 0.8252, Validation Accuracy: 0.8368, Loss: 0.1898\n",
      "Epoch   4 Batch  120/269 - Train Accuracy: 0.8469, Validation Accuracy: 0.8552, Loss: 0.1950\n",
      "Epoch   4 Batch  130/269 - Train Accuracy: 0.8523, Validation Accuracy: 0.8391, Loss: 0.2010\n",
      "Epoch   4 Batch  140/269 - Train Accuracy: 0.8437, Validation Accuracy: 0.8572, Loss: 0.2018\n",
      "Epoch   4 Batch  150/269 - Train Accuracy: 0.8478, Validation Accuracy: 0.8517, Loss: 0.1806\n",
      "Epoch   4 Batch  160/269 - Train Accuracy: 0.8653, Validation Accuracy: 0.8622, Loss: 0.1794\n",
      "Epoch   4 Batch  170/269 - Train Accuracy: 0.8629, Validation Accuracy: 0.8568, Loss: 0.1700\n",
      "Epoch   4 Batch  180/269 - Train Accuracy: 0.8583, Validation Accuracy: 0.8730, Loss: 0.1700\n",
      "Epoch   4 Batch  190/269 - Train Accuracy: 0.8600, Validation Accuracy: 0.8671, Loss: 0.1633\n",
      "Epoch   4 Batch  200/269 - Train Accuracy: 0.8501, Validation Accuracy: 0.8751, Loss: 0.1721\n",
      "Epoch   4 Batch  210/269 - Train Accuracy: 0.8608, Validation Accuracy: 0.8620, Loss: 0.1604\n",
      "Epoch   4 Batch  220/269 - Train Accuracy: 0.8612, Validation Accuracy: 0.8722, Loss: 0.1558\n",
      "Epoch   4 Batch  230/269 - Train Accuracy: 0.8702, Validation Accuracy: 0.8809, Loss: 0.1619\n",
      "Epoch   4 Batch  240/269 - Train Accuracy: 0.8868, Validation Accuracy: 0.8709, Loss: 0.1429\n",
      "Epoch   4 Batch  250/269 - Train Accuracy: 0.8760, Validation Accuracy: 0.8841, Loss: 0.1596\n",
      "Epoch   4 Batch  260/269 - Train Accuracy: 0.8649, Validation Accuracy: 0.8772, Loss: 0.1613\n",
      "Epoch   5 Batch   10/269 - Train Accuracy: 0.8765, Validation Accuracy: 0.8782, Loss: 0.1461\n",
      "Epoch   5 Batch   20/269 - Train Accuracy: 0.8829, Validation Accuracy: 0.8773, Loss: 0.1444\n",
      "Epoch   5 Batch   30/269 - Train Accuracy: 0.8767, Validation Accuracy: 0.8781, Loss: 0.1395\n",
      "Epoch   5 Batch   40/269 - Train Accuracy: 0.8738, Validation Accuracy: 0.8842, Loss: 0.1478\n",
      "Epoch   5 Batch   50/269 - Train Accuracy: 0.8624, Validation Accuracy: 0.8861, Loss: 0.1503\n",
      "Epoch   5 Batch   60/269 - Train Accuracy: 0.8752, Validation Accuracy: 0.8830, Loss: 0.1349\n",
      "Epoch   5 Batch   70/269 - Train Accuracy: 0.8907, Validation Accuracy: 0.8866, Loss: 0.1428\n",
      "Epoch   5 Batch   80/269 - Train Accuracy: 0.8823, Validation Accuracy: 0.8824, Loss: 0.1302\n",
      "Epoch   5 Batch   90/269 - Train Accuracy: 0.8884, Validation Accuracy: 0.8778, Loss: 0.1369\n",
      "Epoch   5 Batch  100/269 - Train Accuracy: 0.9042, Validation Accuracy: 0.8940, Loss: 0.1242\n",
      "Epoch   5 Batch  110/269 - Train Accuracy: 0.8707, Validation Accuracy: 0.8729, Loss: 0.1277\n",
      "Epoch   5 Batch  120/269 - Train Accuracy: 0.8914, Validation Accuracy: 0.8987, Loss: 0.1343\n",
      "Epoch   5 Batch  130/269 - Train Accuracy: 0.9120, Validation Accuracy: 0.8921, Loss: 0.1325\n",
      "Epoch   5 Batch  140/269 - Train Accuracy: 0.8933, Validation Accuracy: 0.8891, Loss: 0.1383\n",
      "Epoch   5 Batch  150/269 - Train Accuracy: 0.8807, Validation Accuracy: 0.8837, Loss: 0.1284\n",
      "Epoch   5 Batch  160/269 - Train Accuracy: 0.8903, Validation Accuracy: 0.8983, Loss: 0.1214\n",
      "Epoch   5 Batch  170/269 - Train Accuracy: 0.8971, Validation Accuracy: 0.8900, Loss: 0.1095\n",
      "Epoch   5 Batch  180/269 - Train Accuracy: 0.9012, Validation Accuracy: 0.8977, Loss: 0.1186\n",
      "Epoch   5 Batch  190/269 - Train Accuracy: 0.9023, Validation Accuracy: 0.9043, Loss: 0.1176\n",
      "Epoch   5 Batch  200/269 - Train Accuracy: 0.8769, Validation Accuracy: 0.8856, Loss: 0.1144\n",
      "Epoch   5 Batch  210/269 - Train Accuracy: 0.8957, Validation Accuracy: 0.8944, Loss: 0.1085\n",
      "Epoch   5 Batch  220/269 - Train Accuracy: 0.9060, Validation Accuracy: 0.8951, Loss: 0.1113\n",
      "Epoch   5 Batch  230/269 - Train Accuracy: 0.8966, Validation Accuracy: 0.8976, Loss: 0.1154\n",
      "Epoch   5 Batch  240/269 - Train Accuracy: 0.9223, Validation Accuracy: 0.9092, Loss: 0.1047\n",
      "Epoch   5 Batch  250/269 - Train Accuracy: 0.9125, Validation Accuracy: 0.9140, Loss: 0.1080\n",
      "Epoch   5 Batch  260/269 - Train Accuracy: 0.8955, Validation Accuracy: 0.8975, Loss: 0.1134\n",
      "Epoch   6 Batch   10/269 - Train Accuracy: 0.9111, Validation Accuracy: 0.9078, Loss: 0.1025\n",
      "Epoch   6 Batch   20/269 - Train Accuracy: 0.9219, Validation Accuracy: 0.9072, Loss: 0.1091\n",
      "Epoch   6 Batch   30/269 - Train Accuracy: 0.9164, Validation Accuracy: 0.9013, Loss: 0.1014\n",
      "Epoch   6 Batch   40/269 - Train Accuracy: 0.9116, Validation Accuracy: 0.9064, Loss: 0.1096\n",
      "Epoch   6 Batch   50/269 - Train Accuracy: 0.9004, Validation Accuracy: 0.9062, Loss: 0.1104\n",
      "Epoch   6 Batch   60/269 - Train Accuracy: 0.9103, Validation Accuracy: 0.9077, Loss: 0.1052\n",
      "Epoch   6 Batch   70/269 - Train Accuracy: 0.9106, Validation Accuracy: 0.9120, Loss: 0.1102\n",
      "Epoch   6 Batch   80/269 - Train Accuracy: 0.9109, Validation Accuracy: 0.9089, Loss: 0.0973\n",
      "Epoch   6 Batch   90/269 - Train Accuracy: 0.9151, Validation Accuracy: 0.9072, Loss: 0.0993\n",
      "Epoch   6 Batch  100/269 - Train Accuracy: 0.9204, Validation Accuracy: 0.9139, Loss: 0.0959\n",
      "Epoch   6 Batch  110/269 - Train Accuracy: 0.9169, Validation Accuracy: 0.9097, Loss: 0.0982\n",
      "Epoch   6 Batch  120/269 - Train Accuracy: 0.9269, Validation Accuracy: 0.9178, Loss: 0.1040\n",
      "Epoch   6 Batch  130/269 - Train Accuracy: 0.9228, Validation Accuracy: 0.9120, Loss: 0.1005\n",
      "Epoch   6 Batch  140/269 - Train Accuracy: 0.9124, Validation Accuracy: 0.9159, Loss: 0.1071\n",
      "Epoch   6 Batch  150/269 - Train Accuracy: 0.9164, Validation Accuracy: 0.9161, Loss: 0.0987\n",
      "Epoch   6 Batch  160/269 - Train Accuracy: 0.9160, Validation Accuracy: 0.9102, Loss: 0.0937\n",
      "Epoch   6 Batch  170/269 - Train Accuracy: 0.9345, Validation Accuracy: 0.9205, Loss: 0.0821\n",
      "Epoch   6 Batch  180/269 - Train Accuracy: 0.9354, Validation Accuracy: 0.9226, Loss: 0.0907\n",
      "Epoch   6 Batch  190/269 - Train Accuracy: 0.9251, Validation Accuracy: 0.9255, Loss: 0.0867\n",
      "Epoch   6 Batch  200/269 - Train Accuracy: 0.9168, Validation Accuracy: 0.9261, Loss: 0.0915\n",
      "Epoch   6 Batch  210/269 - Train Accuracy: 0.9168, Validation Accuracy: 0.9094, Loss: 0.0863\n",
      "Epoch   6 Batch  220/269 - Train Accuracy: 0.9299, Validation Accuracy: 0.9249, Loss: 0.0884\n"
     ]
    },
    {
     "name": "stdout",
     "output_type": "stream",
     "text": [
      "Epoch   6 Batch  230/269 - Train Accuracy: 0.9395, Validation Accuracy: 0.9260, Loss: 0.0929\n",
      "Epoch   6 Batch  240/269 - Train Accuracy: 0.9350, Validation Accuracy: 0.9300, Loss: 0.0810\n",
      "Epoch   6 Batch  250/269 - Train Accuracy: 0.9323, Validation Accuracy: 0.9346, Loss: 0.0876\n",
      "Epoch   6 Batch  260/269 - Train Accuracy: 0.9189, Validation Accuracy: 0.9316, Loss: 0.0916\n",
      "Epoch   7 Batch   10/269 - Train Accuracy: 0.9267, Validation Accuracy: 0.9398, Loss: 0.0833\n",
      "Epoch   7 Batch   20/269 - Train Accuracy: 0.9348, Validation Accuracy: 0.9376, Loss: 0.0821\n",
      "Epoch   7 Batch   30/269 - Train Accuracy: 0.9405, Validation Accuracy: 0.9279, Loss: 0.0775\n",
      "Epoch   7 Batch   40/269 - Train Accuracy: 0.9345, Validation Accuracy: 0.9287, Loss: 0.0865\n",
      "Epoch   7 Batch   50/269 - Train Accuracy: 0.9304, Validation Accuracy: 0.9364, Loss: 0.0884\n",
      "Epoch   7 Batch   60/269 - Train Accuracy: 0.9323, Validation Accuracy: 0.9413, Loss: 0.0786\n",
      "Epoch   7 Batch   70/269 - Train Accuracy: 0.9235, Validation Accuracy: 0.9312, Loss: 0.0836\n",
      "Epoch   7 Batch   80/269 - Train Accuracy: 0.9303, Validation Accuracy: 0.9379, Loss: 0.0832\n",
      "Epoch   7 Batch   90/269 - Train Accuracy: 0.9282, Validation Accuracy: 0.9405, Loss: 0.0824\n",
      "Epoch   7 Batch  100/269 - Train Accuracy: 0.9417, Validation Accuracy: 0.9388, Loss: 0.0772\n",
      "Epoch   7 Batch  110/269 - Train Accuracy: 0.9429, Validation Accuracy: 0.9322, Loss: 0.0762\n",
      "Epoch   7 Batch  120/269 - Train Accuracy: 0.9414, Validation Accuracy: 0.9386, Loss: 0.0787\n",
      "Epoch   7 Batch  130/269 - Train Accuracy: 0.9433, Validation Accuracy: 0.9411, Loss: 0.0875\n",
      "Epoch   7 Batch  140/269 - Train Accuracy: 0.9381, Validation Accuracy: 0.9425, Loss: 0.0838\n",
      "Epoch   7 Batch  150/269 - Train Accuracy: 0.9382, Validation Accuracy: 0.9355, Loss: 0.0761\n",
      "Epoch   7 Batch  160/269 - Train Accuracy: 0.9395, Validation Accuracy: 0.9470, Loss: 0.0757\n",
      "Epoch   7 Batch  170/269 - Train Accuracy: 0.9478, Validation Accuracy: 0.9434, Loss: 0.0716\n",
      "Epoch   7 Batch  180/269 - Train Accuracy: 0.9419, Validation Accuracy: 0.9390, Loss: 0.0759\n",
      "Epoch   7 Batch  190/269 - Train Accuracy: 0.9323, Validation Accuracy: 0.9428, Loss: 0.0744\n",
      "Epoch   7 Batch  200/269 - Train Accuracy: 0.9374, Validation Accuracy: 0.9512, Loss: 0.0703\n",
      "Epoch   7 Batch  210/269 - Train Accuracy: 0.9453, Validation Accuracy: 0.9428, Loss: 0.0700\n",
      "Epoch   7 Batch  220/269 - Train Accuracy: 0.9348, Validation Accuracy: 0.9450, Loss: 0.0720\n",
      "Epoch   7 Batch  230/269 - Train Accuracy: 0.9527, Validation Accuracy: 0.9468, Loss: 0.0708\n",
      "Epoch   7 Batch  240/269 - Train Accuracy: 0.9501, Validation Accuracy: 0.9376, Loss: 0.0681\n",
      "Epoch   7 Batch  250/269 - Train Accuracy: 0.9427, Validation Accuracy: 0.9470, Loss: 0.0727\n",
      "Epoch   7 Batch  260/269 - Train Accuracy: 0.9449, Validation Accuracy: 0.9462, Loss: 0.0727\n",
      "Epoch   8 Batch   10/269 - Train Accuracy: 0.9431, Validation Accuracy: 0.9492, Loss: 0.0637\n",
      "Epoch   8 Batch   20/269 - Train Accuracy: 0.9387, Validation Accuracy: 0.9512, Loss: 0.0717\n",
      "Epoch   8 Batch   30/269 - Train Accuracy: 0.9485, Validation Accuracy: 0.9390, Loss: 0.0690\n",
      "Epoch   8 Batch   40/269 - Train Accuracy: 0.9387, Validation Accuracy: 0.9430, Loss: 0.0733\n",
      "Epoch   8 Batch   50/269 - Train Accuracy: 0.9269, Validation Accuracy: 0.9529, Loss: 0.0727\n",
      "Epoch   8 Batch   60/269 - Train Accuracy: 0.9414, Validation Accuracy: 0.9406, Loss: 0.0658\n",
      "Epoch   8 Batch   70/269 - Train Accuracy: 0.9413, Validation Accuracy: 0.9474, Loss: 0.0754\n",
      "Epoch   8 Batch   80/269 - Train Accuracy: 0.9423, Validation Accuracy: 0.9490, Loss: 0.0671\n",
      "Epoch   8 Batch   90/269 - Train Accuracy: 0.9432, Validation Accuracy: 0.9513, Loss: 0.0675\n",
      "Epoch   8 Batch  100/269 - Train Accuracy: 0.9564, Validation Accuracy: 0.9469, Loss: 0.0634\n",
      "Epoch   8 Batch  110/269 - Train Accuracy: 0.9410, Validation Accuracy: 0.9434, Loss: 0.0610\n",
      "Epoch   8 Batch  120/269 - Train Accuracy: 0.9439, Validation Accuracy: 0.9488, Loss: 0.0668\n",
      "Epoch   8 Batch  130/269 - Train Accuracy: 0.9503, Validation Accuracy: 0.9435, Loss: 0.0722\n",
      "Epoch   8 Batch  140/269 - Train Accuracy: 0.9377, Validation Accuracy: 0.9447, Loss: 0.0726\n",
      "Epoch   8 Batch  150/269 - Train Accuracy: 0.9545, Validation Accuracy: 0.9448, Loss: 0.0623\n",
      "Epoch   8 Batch  160/269 - Train Accuracy: 0.9479, Validation Accuracy: 0.9534, Loss: 0.0653\n",
      "Epoch   8 Batch  170/269 - Train Accuracy: 0.9409, Validation Accuracy: 0.9545, Loss: 0.0599\n",
      "Epoch   8 Batch  180/269 - Train Accuracy: 0.9543, Validation Accuracy: 0.9534, Loss: 0.0602\n",
      "Epoch   8 Batch  190/269 - Train Accuracy: 0.9414, Validation Accuracy: 0.9407, Loss: 0.0662\n",
      "Epoch   8 Batch  200/269 - Train Accuracy: 0.9506, Validation Accuracy: 0.9522, Loss: 0.0605\n",
      "Epoch   8 Batch  210/269 - Train Accuracy: 0.9445, Validation Accuracy: 0.9429, Loss: 0.0564\n",
      "Epoch   8 Batch  220/269 - Train Accuracy: 0.9425, Validation Accuracy: 0.9513, Loss: 0.0576\n",
      "Epoch   8 Batch  230/269 - Train Accuracy: 0.9552, Validation Accuracy: 0.9530, Loss: 0.0589\n",
      "Epoch   8 Batch  240/269 - Train Accuracy: 0.9531, Validation Accuracy: 0.9491, Loss: 0.0559\n",
      "Epoch   8 Batch  250/269 - Train Accuracy: 0.9451, Validation Accuracy: 0.9552, Loss: 0.0597\n",
      "Epoch   8 Batch  260/269 - Train Accuracy: 0.9513, Validation Accuracy: 0.9502, Loss: 0.0596\n",
      "Epoch   9 Batch   10/269 - Train Accuracy: 0.9524, Validation Accuracy: 0.9554, Loss: 0.0571\n",
      "Epoch   9 Batch   20/269 - Train Accuracy: 0.9462, Validation Accuracy: 0.9580, Loss: 0.0658\n",
      "Epoch   9 Batch   30/269 - Train Accuracy: 0.9599, Validation Accuracy: 0.9515, Loss: 0.0599\n",
      "Epoch   9 Batch   40/269 - Train Accuracy: 0.9450, Validation Accuracy: 0.9536, Loss: 0.0608\n",
      "Epoch   9 Batch   50/269 - Train Accuracy: 0.9400, Validation Accuracy: 0.9569, Loss: 0.0636\n",
      "Epoch   9 Batch   60/269 - Train Accuracy: 0.9488, Validation Accuracy: 0.9474, Loss: 0.0562\n",
      "Epoch   9 Batch   70/269 - Train Accuracy: 0.9534, Validation Accuracy: 0.9553, Loss: 0.0620\n",
      "Epoch   9 Batch   80/269 - Train Accuracy: 0.9445, Validation Accuracy: 0.9535, Loss: 0.0582\n",
      "Epoch   9 Batch   90/269 - Train Accuracy: 0.9548, Validation Accuracy: 0.9511, Loss: 0.0579\n",
      "Epoch   9 Batch  100/269 - Train Accuracy: 0.9547, Validation Accuracy: 0.9521, Loss: 0.0588\n",
      "Epoch   9 Batch  110/269 - Train Accuracy: 0.9450, Validation Accuracy: 0.9485, Loss: 0.0546\n",
      "Epoch   9 Batch  120/269 - Train Accuracy: 0.9569, Validation Accuracy: 0.9565, Loss: 0.0584\n",
      "Epoch   9 Batch  130/269 - Train Accuracy: 0.9600, Validation Accuracy: 0.9450, Loss: 0.0622\n",
      "Epoch   9 Batch  140/269 - Train Accuracy: 0.9417, Validation Accuracy: 0.9456, Loss: 0.0659\n",
      "Epoch   9 Batch  150/269 - Train Accuracy: 0.9593, Validation Accuracy: 0.9546, Loss: 0.0546\n",
      "Epoch   9 Batch  160/269 - Train Accuracy: 0.9478, Validation Accuracy: 0.9561, Loss: 0.0532\n",
      "Epoch   9 Batch  170/269 - Train Accuracy: 0.9515, Validation Accuracy: 0.9626, Loss: 0.0514\n",
      "Epoch   9 Batch  180/269 - Train Accuracy: 0.9614, Validation Accuracy: 0.9472, Loss: 0.0515\n",
      "Epoch   9 Batch  190/269 - Train Accuracy: 0.9464, Validation Accuracy: 0.9561, Loss: 0.0565\n",
      "Epoch   9 Batch  200/269 - Train Accuracy: 0.9622, Validation Accuracy: 0.9483, Loss: 0.0564\n",
      "Epoch   9 Batch  210/269 - Train Accuracy: 0.9539, Validation Accuracy: 0.9520, Loss: 0.0463\n",
      "Epoch   9 Batch  220/269 - Train Accuracy: 0.9524, Validation Accuracy: 0.9553, Loss: 0.0529\n",
      "Epoch   9 Batch  230/269 - Train Accuracy: 0.9511, Validation Accuracy: 0.9577, Loss: 0.0537\n",
      "Epoch   9 Batch  240/269 - Train Accuracy: 0.9568, Validation Accuracy: 0.9519, Loss: 0.0518\n",
      "Epoch   9 Batch  250/269 - Train Accuracy: 0.9522, Validation Accuracy: 0.9442, Loss: 0.0509\n",
      "Epoch   9 Batch  260/269 - Train Accuracy: 0.9532, Validation Accuracy: 0.9580, Loss: 0.0572\n",
      "Model Trained and Saved\n"
     ]
    }
   ],
   "source": [
    "\"\"\"\n",
    "DON'T MODIFY ANYTHING IN THIS CELL\n",
    "\"\"\"\n",
    "def get_accuracy(target, logits):\n",
    "    \"\"\"\n",
    "    Calculate accuracy\n",
    "    \"\"\"\n",
    "    max_seq = max(target.shape[1], logits.shape[1])\n",
    "    if max_seq - target.shape[1]:\n",
    "        target = np.pad(\n",
    "            target,\n",
    "            [(0,0),(0,max_seq - target.shape[1])],\n",
    "            'constant')\n",
    "    if max_seq - logits.shape[1]:\n",
    "        logits = np.pad(\n",
    "            logits,\n",
    "            [(0,0),(0,max_seq - logits.shape[1])],\n",
    "            'constant')\n",
    "\n",
    "    return np.mean(np.equal(target, logits))\n",
    "\n",
    "# Split data to training and validation sets\n",
    "train_source = source_int_text[batch_size:]\n",
    "train_target = target_int_text[batch_size:]\n",
    "valid_source = source_int_text[:batch_size]\n",
    "valid_target = target_int_text[:batch_size]\n",
    "(valid_sources_batch, valid_targets_batch, valid_sources_lengths, valid_targets_lengths ) = next(get_batches(valid_source,\n",
    "                                                                                                             valid_target,\n",
    "                                                                                                             batch_size,\n",
    "                                                                                                             source_vocab_to_int['<PAD>'],\n",
    "                                                                                                             target_vocab_to_int['<PAD>']))                                                                                                  \n",
    "with tf.Session(graph=train_graph) as sess:\n",
    "    sess.run(tf.global_variables_initializer())\n",
    "\n",
    "    for epoch_i in range(epochs):\n",
    "        for batch_i, (source_batch, target_batch, sources_lengths, targets_lengths) in enumerate(\n",
    "                get_batches(train_source, train_target, batch_size,\n",
    "                            source_vocab_to_int['<PAD>'],\n",
    "                            target_vocab_to_int['<PAD>'])):\n",
    "\n",
    "            _, loss = sess.run(\n",
    "                [train_op, cost],\n",
    "                {input_data: source_batch,\n",
    "                 targets: target_batch,\n",
    "                 lr: learning_rate,\n",
    "                 target_sequence_length: targets_lengths,\n",
    "                 source_sequence_length: sources_lengths,\n",
    "                 keep_prob: keep_probability})\n",
    "\n",
    "\n",
    "            if batch_i % display_step == 0 and batch_i > 0:\n",
    "\n",
    "\n",
    "                batch_train_logits = sess.run(\n",
    "                    inference_logits,\n",
    "                    {input_data: source_batch,\n",
    "                     source_sequence_length: sources_lengths,\n",
    "                     target_sequence_length: targets_lengths,\n",
    "                     keep_prob: 1.0})\n",
    "\n",
    "\n",
    "                batch_valid_logits = sess.run(\n",
    "                    inference_logits,\n",
    "                    {input_data: valid_sources_batch,\n",
    "                     source_sequence_length: valid_sources_lengths,\n",
    "                     target_sequence_length: valid_targets_lengths,\n",
    "                     keep_prob: 1.0})\n",
    "\n",
    "                train_acc = get_accuracy(target_batch, batch_train_logits)\n",
    "\n",
    "                valid_acc = get_accuracy(valid_targets_batch, batch_valid_logits)\n",
    "\n",
    "                print('Epoch {:>3} Batch {:>4}/{} - Train Accuracy: {:>6.4f}, Validation Accuracy: {:>6.4f}, Loss: {:>6.4f}'\n",
    "                      .format(epoch_i, batch_i, len(source_int_text) // batch_size, train_acc, valid_acc, loss))\n",
    "\n",
    "    # Save Model\n",
    "    saver = tf.train.Saver()\n",
    "    saver.save(sess, save_path)\n",
    "    print('Model Trained and Saved')"
   ]
  },
  {
   "cell_type": "markdown",
   "metadata": {},
   "source": [
    "### Save Parameters\n",
    "Save the `batch_size` and `save_path` parameters for inference."
   ]
  },
  {
   "cell_type": "code",
   "execution_count": 38,
   "metadata": {
    "collapsed": true
   },
   "outputs": [],
   "source": [
    "\"\"\"\n",
    "DON'T MODIFY ANYTHING IN THIS CELL\n",
    "\"\"\"\n",
    "# Save parameters for checkpoint\n",
    "helper.save_params(save_path)"
   ]
  },
  {
   "cell_type": "markdown",
   "metadata": {},
   "source": [
    "# Checkpoint"
   ]
  },
  {
   "cell_type": "code",
   "execution_count": 39,
   "metadata": {
    "collapsed": true
   },
   "outputs": [],
   "source": [
    "\"\"\"\n",
    "DON'T MODIFY ANYTHING IN THIS CELL\n",
    "\"\"\"\n",
    "import tensorflow as tf\n",
    "import numpy as np\n",
    "import helper\n",
    "import problem_unittests as tests\n",
    "\n",
    "_, (source_vocab_to_int, target_vocab_to_int), (source_int_to_vocab, target_int_to_vocab) = helper.load_preprocess()\n",
    "load_path = helper.load_params()"
   ]
  },
  {
   "cell_type": "markdown",
   "metadata": {},
   "source": [
    "## Sentence to Sequence\n",
    "To feed a sentence into the model for translation, you first need to preprocess it.  Implement the function `sentence_to_seq()` to preprocess new sentences.\n",
    "\n",
    "- Convert the sentence to lowercase\n",
    "- Convert words into ids using `vocab_to_int`\n",
    " - Convert words not in the vocabulary, to the `<UNK>` word id."
   ]
  },
  {
   "cell_type": "code",
   "execution_count": 40,
   "metadata": {},
   "outputs": [
    {
     "name": "stdout",
     "output_type": "stream",
     "text": [
      "Tests Passed\n"
     ]
    }
   ],
   "source": [
    "def sentence_to_seq(sentence, vocab_to_int):\n",
    "    \"\"\"\n",
    "    Convert a sentence to a sequence of ids\n",
    "    :param sentence: String\n",
    "    :param vocab_to_int: Dictionary to go from the words to an id\n",
    "    :return: List of word ids\n",
    "    \"\"\"\n",
    "    # TODO: Implement Function\n",
    "    sentence = sentence.lower()\n",
    "    sentence_length = len(sentence)\n",
    "    return [vocab_to_int.get(word, vocab_to_int['<UNK>']) for word in sentence.split()]+[vocab_to_int['<PAD>']]*(sentence_length-len(sentence))\n",
    "\n",
    "\n",
    "\n",
    "\"\"\"\n",
    "DON'T MODIFY ANYTHING IN THIS CELL THAT IS BELOW THIS LINE\n",
    "\"\"\"\n",
    "tests.test_sentence_to_seq(sentence_to_seq)"
   ]
  },
  {
   "cell_type": "markdown",
   "metadata": {},
   "source": [
    "## Translate\n",
    "This will translate `translate_sentence` from English to French."
   ]
  },
  {
   "cell_type": "code",
   "execution_count": 41,
   "metadata": {},
   "outputs": [
    {
     "name": "stdout",
     "output_type": "stream",
     "text": [
      "INFO:tensorflow:Restoring parameters from checkpoints/dev\n",
      "Input\n",
      "  Word Ids:      [124, 214, 63, 152, 77, 187, 18]\n",
      "  English Words: ['he', 'saw', 'a', 'old', 'yellow', 'truck', '.']\n",
      "\n",
      "Prediction\n",
      "  Word Ids:      [315, 128, 66, 98, 20, 23, 145, 283, 1]\n",
      "  French Words: il a vu un vieux camion jaune . <EOS>\n"
     ]
    }
   ],
   "source": [
    "translate_sentence = 'he saw a old yellow truck .'\n",
    "\n",
    "\n",
    "\"\"\"\n",
    "DON'T MODIFY ANYTHING IN THIS CELL\n",
    "\"\"\"\n",
    "translate_sentence = sentence_to_seq(translate_sentence, source_vocab_to_int)\n",
    "\n",
    "loaded_graph = tf.Graph()\n",
    "with tf.Session(graph=loaded_graph) as sess:\n",
    "    # Load saved model\n",
    "    loader = tf.train.import_meta_graph(load_path + '.meta')\n",
    "    loader.restore(sess, load_path)\n",
    "\n",
    "    input_data = loaded_graph.get_tensor_by_name('input:0')\n",
    "    logits = loaded_graph.get_tensor_by_name('predictions:0')\n",
    "    target_sequence_length = loaded_graph.get_tensor_by_name('target_sequence_length:0')\n",
    "    source_sequence_length = loaded_graph.get_tensor_by_name('source_sequence_length:0')\n",
    "    keep_prob = loaded_graph.get_tensor_by_name('keep_prob:0')\n",
    "\n",
    "    translate_logits = sess.run(logits, {input_data: [translate_sentence]*batch_size,\n",
    "                                         target_sequence_length: [len(translate_sentence)*2]*batch_size,\n",
    "                                         source_sequence_length: [len(translate_sentence)]*batch_size,\n",
    "                                         keep_prob: 1.0})[0]\n",
    "\n",
    "print('Input')\n",
    "print('  Word Ids:      {}'.format([i for i in translate_sentence]))\n",
    "print('  English Words: {}'.format([source_int_to_vocab[i] for i in translate_sentence]))\n",
    "\n",
    "print('\\nPrediction')\n",
    "print('  Word Ids:      {}'.format([i for i in translate_logits]))\n",
    "print('  French Words: {}'.format(\" \".join([target_int_to_vocab[i] for i in translate_logits])))\n"
   ]
  },
  {
   "cell_type": "markdown",
   "metadata": {},
   "source": [
    "## Imperfect Translation\n",
    "You might notice that some sentences translate better than others.  Since the dataset you're using only has a vocabulary of 227 English words of the thousands that you use, you're only going to see good results using these words.  For this project, you don't need a perfect translation. However, if you want to create a better translation model, you'll need better data.\n",
    "\n",
    "You can train on the [WMT10 French-English corpus](http://www.statmt.org/wmt10/training-giga-fren.tar).  This dataset has more vocabulary and richer in topics discussed.  However, this will take you days to train, so make sure you've a GPU and the neural network is performing well on dataset we provided.  Just make sure you play with the WMT10 corpus after you've submitted this project.\n",
    "## Submitting This Project\n",
    "When submitting this project, make sure to run all the cells before saving the notebook. Save the notebook file as \"dlnd_language_translation.ipynb\" and save it as a HTML file under \"File\" -> \"Download as\". Include the \"helper.py\" and \"problem_unittests.py\" files in your submission."
   ]
  }
 ],
 "metadata": {
  "anaconda-cloud": {},
  "kernelspec": {
   "display_name": "Python 3",
   "language": "python",
   "name": "python3"
  },
  "language_info": {
   "codemirror_mode": {
    "name": "ipython",
    "version": 3
   },
   "file_extension": ".py",
   "mimetype": "text/x-python",
   "name": "python",
   "nbconvert_exporter": "python",
   "pygments_lexer": "ipython3",
   "version": "3.5.3"
  }
 },
 "nbformat": 4,
 "nbformat_minor": 1
}
